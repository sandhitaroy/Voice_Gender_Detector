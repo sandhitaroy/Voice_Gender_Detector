{
 "cells": [
  {
   "cell_type": "code",
   "execution_count": 83,
   "metadata": {},
   "outputs": [],
   "source": [
    "import pandas as pd\n",
    "import numpy as np\n",
    "import matplotlib.pyplot as plt\n",
    "import os\n",
    "import tqdm\n",
    "from keras.models import Sequential\n",
    "from keras.layers import Dense, LSTM, Dropout\n",
    "from keras.callbacks import ModelCheckpoint, TensorBoard, EarlyStopping\n",
    "from sklearn.model_selection import train_test_split"
   ]
  },
  {
   "cell_type": "code",
   "execution_count": 84,
   "metadata": {},
   "outputs": [
    {
     "data": {
      "text/html": [
       "<div>\n",
       "<style scoped>\n",
       "    .dataframe tbody tr th:only-of-type {\n",
       "        vertical-align: middle;\n",
       "    }\n",
       "\n",
       "    .dataframe tbody tr th {\n",
       "        vertical-align: top;\n",
       "    }\n",
       "\n",
       "    .dataframe thead th {\n",
       "        text-align: right;\n",
       "    }\n",
       "</style>\n",
       "<table border=\"1\" class=\"dataframe\">\n",
       "  <thead>\n",
       "    <tr style=\"text-align: right;\">\n",
       "      <th></th>\n",
       "      <th>filename</th>\n",
       "      <th>gender</th>\n",
       "    </tr>\n",
       "  </thead>\n",
       "  <tbody>\n",
       "    <tr>\n",
       "      <th>0</th>\n",
       "      <td>data/cv-other-train/sample-069205.npy</td>\n",
       "      <td>female</td>\n",
       "    </tr>\n",
       "    <tr>\n",
       "      <th>1</th>\n",
       "      <td>data/cv-valid-train/sample-063134.npy</td>\n",
       "      <td>female</td>\n",
       "    </tr>\n",
       "    <tr>\n",
       "      <th>2</th>\n",
       "      <td>data/cv-other-train/sample-080873.npy</td>\n",
       "      <td>female</td>\n",
       "    </tr>\n",
       "    <tr>\n",
       "      <th>3</th>\n",
       "      <td>data/cv-other-train/sample-105595.npy</td>\n",
       "      <td>female</td>\n",
       "    </tr>\n",
       "    <tr>\n",
       "      <th>4</th>\n",
       "      <td>data/cv-valid-train/sample-144613.npy</td>\n",
       "      <td>female</td>\n",
       "    </tr>\n",
       "  </tbody>\n",
       "</table>\n",
       "</div>"
      ],
      "text/plain": [
       "                                filename  gender\n",
       "0  data/cv-other-train/sample-069205.npy  female\n",
       "1  data/cv-valid-train/sample-063134.npy  female\n",
       "2  data/cv-other-train/sample-080873.npy  female\n",
       "3  data/cv-other-train/sample-105595.npy  female\n",
       "4  data/cv-valid-train/sample-144613.npy  female"
      ]
     },
     "execution_count": 84,
     "metadata": {},
     "output_type": "execute_result"
    }
   ],
   "source": [
    "df = pd.read_csv(\"balanced-all.csv\")\n",
    "df.head()"
   ]
  },
  {
   "cell_type": "code",
   "execution_count": 85,
   "metadata": {},
   "outputs": [
    {
     "data": {
      "text/html": [
       "<div>\n",
       "<style scoped>\n",
       "    .dataframe tbody tr th:only-of-type {\n",
       "        vertical-align: middle;\n",
       "    }\n",
       "\n",
       "    .dataframe tbody tr th {\n",
       "        vertical-align: top;\n",
       "    }\n",
       "\n",
       "    .dataframe thead th {\n",
       "        text-align: right;\n",
       "    }\n",
       "</style>\n",
       "<table border=\"1\" class=\"dataframe\">\n",
       "  <thead>\n",
       "    <tr style=\"text-align: right;\">\n",
       "      <th></th>\n",
       "      <th>filename</th>\n",
       "      <th>gender</th>\n",
       "    </tr>\n",
       "  </thead>\n",
       "  <tbody>\n",
       "    <tr>\n",
       "      <th>66933</th>\n",
       "      <td>data/cv-valid-train/sample-171098.npy</td>\n",
       "      <td>male</td>\n",
       "    </tr>\n",
       "    <tr>\n",
       "      <th>66934</th>\n",
       "      <td>data/cv-other-train/sample-022864.npy</td>\n",
       "      <td>male</td>\n",
       "    </tr>\n",
       "    <tr>\n",
       "      <th>66935</th>\n",
       "      <td>data/cv-valid-train/sample-080933.npy</td>\n",
       "      <td>male</td>\n",
       "    </tr>\n",
       "    <tr>\n",
       "      <th>66936</th>\n",
       "      <td>data/cv-other-train/sample-012026.npy</td>\n",
       "      <td>male</td>\n",
       "    </tr>\n",
       "    <tr>\n",
       "      <th>66937</th>\n",
       "      <td>data/cv-other-train/sample-013841.npy</td>\n",
       "      <td>male</td>\n",
       "    </tr>\n",
       "  </tbody>\n",
       "</table>\n",
       "</div>"
      ],
      "text/plain": [
       "                                    filename gender\n",
       "66933  data/cv-valid-train/sample-171098.npy   male\n",
       "66934  data/cv-other-train/sample-022864.npy   male\n",
       "66935  data/cv-valid-train/sample-080933.npy   male\n",
       "66936  data/cv-other-train/sample-012026.npy   male\n",
       "66937  data/cv-other-train/sample-013841.npy   male"
      ]
     },
     "execution_count": 85,
     "metadata": {},
     "output_type": "execute_result"
    }
   ],
   "source": [
    "df.tail()"
   ]
  },
  {
   "cell_type": "code",
   "execution_count": 86,
   "metadata": {},
   "outputs": [
    {
     "name": "stdout",
     "output_type": "stream",
     "text": [
      "Total samples: 66938\n",
      "Total male samples: 33469\n",
      "Total female samples: 33469\n"
     ]
    }
   ],
   "source": [
    "n_samples = len(df)\n",
    "n_male_samples = len(df[df['gender'] == 'male'])\n",
    "n_female_samples = len(df[df['gender'] == 'female'])\n",
    "print(\"Total samples:\", n_samples)\n",
    "print(\"Total male samples:\", n_male_samples)\n",
    "print(\"Total female samples:\", n_female_samples)\n"
   ]
  },
  {
   "cell_type": "code",
   "execution_count": 87,
   "metadata": {},
   "outputs": [
    {
     "data": {
      "image/png": "[encoded data removed]",
      "text/plain": [
       "<Figure size 640x480 with 1 Axes>"
      ]
     },
     "metadata": {},
     "output_type": "display_data"
    }
   ],
   "source": [
    "fig=plt.figure()\n",
    "ax=fig.add_axes([0,0,1,1])\n",
    "gender=[\"Male\",\"Female\"]\n",
    "values=[33469,33469]\n",
    "ax.bar(gender,values)\n",
    "plt.show()"
   ]
  },
  {
   "cell_type": "code",
   "execution_count": 88,
   "metadata": {},
   "outputs": [],
   "source": [
    "label2int = {\n",
    "    \"male\": 1,\n",
    "    \"female\": 0\n",
    "}\n",
    "\n",
    "def load_data(vector_length=128):\n",
    "    if not os.path.isdir(\"results\"):\n",
    "        os.mkdir(\"results\")\n",
    "    if os.path.isfile(\"results/features.npy\") and os.path.isfile(\"results/labels.npy\"):\n",
    "        X = np.load(\"results/features.npy\")\n",
    "        y = np.load(\"results/labels.npy\")\n",
    "        return X, y\n",
    "    df = pd.read_csv(\"balanced-all.csv\")\n",
    "    n_samples = len(df)\n",
    "    n_male_samples = len(df[df['gender'] == 'male'])\n",
    "    n_female_samples = len(df[df['gender'] == 'female'])\n",
    "    print(\"Total samples:\", n_samples)\n",
    "    print(\"Total male samples:\", n_male_samples)\n",
    "    print(\"Total female samples:\", n_female_samples)\n",
    "    X = np.zeros((n_samples, vector_length))\n",
    "    y = np.zeros((n_samples, 1))\n",
    "    for i, (filename, gender) in tqdm.tqdm(enumerate(zip(df['filename'], df['gender'])), \"Loading data\", total=n_samples):\n",
    "        features = np.load(filename)\n",
    "        X[i] = features\n",
    "        y[i] = label2int[gender]\n",
    "    np.save(\"results/features\", X)\n",
    "    np.save(\"results/labels\", y)\n",
    "    return X, y"
   ]
  },
  {
   "cell_type": "code",
   "execution_count": 89,
   "metadata": {},
   "outputs": [],
   "source": [
    "def split_data(X, y, test_size=0.1, valid_size=0.1):\n",
    "    X_train, X_test, y_train, y_test = train_test_split(X, y, test_size=test_size, random_state=7)\n",
    "    X_train, X_valid, y_train, y_valid = train_test_split(X_train, y_train, test_size=valid_size, random_state=7)\n",
    "    return {\n",
    "        \"X_train\": X_train,\n",
    "        \"X_valid\": X_valid,\n",
    "        \"X_test\": X_test,\n",
    "        \"y_train\": y_train,\n",
    "        \"y_valid\": y_valid,\n",
    "        \"y_test\": y_test\n",
    "    }"
   ]
  },
  {
   "cell_type": "code",
   "execution_count": 90,
   "metadata": {},
   "outputs": [],
   "source": [
    "X, y = load_data()\n",
    "data = split_data(X, y, test_size=0.1, valid_size=0.1)"
   ]
  },
  {
   "cell_type": "code",
   "execution_count": 91,
   "metadata": {},
   "outputs": [
    {
     "data": {
      "text/plain": [
       "array([[1.],\n",
       "       [1.],\n",
       "       [1.],\n",
       "       [0.],\n",
       "       [0.]])"
      ]
     },
     "execution_count": 91,
     "metadata": {},
     "output_type": "execute_result"
    }
   ],
   "source": [
    "data[\"y_train\"][0:5]"
   ]
  },
  {
   "cell_type": "code",
   "execution_count": 92,
   "metadata": {},
   "outputs": [],
   "source": [
    "Y_train_2=data[\"y_train\"][:]\n",
    "Y_test_2=data[\"y_test\"][:]"
   ]
  },
  {
   "cell_type": "code",
   "execution_count": 93,
   "metadata": {},
   "outputs": [
    {
     "data": {
      "text/plain": [
       "array([1.])"
      ]
     },
     "execution_count": 93,
     "metadata": {},
     "output_type": "execute_result"
    }
   ],
   "source": [
    "Y_train_2[0][0:5]"
   ]
  },
  {
   "cell_type": "code",
   "execution_count": 94,
   "metadata": {},
   "outputs": [
    {
     "data": {
      "text/plain": [
       "array([1.])"
      ]
     },
     "execution_count": 94,
     "metadata": {},
     "output_type": "execute_result"
    }
   ],
   "source": [
    "Y_train_2[1][0:5]"
   ]
  },
  {
   "cell_type": "code",
   "execution_count": 95,
   "metadata": {},
   "outputs": [],
   "source": [
    "def create_model(vector_length=128):\n",
    "    model = Sequential()\n",
    "    model.add(Dense(256, input_shape=(vector_length,)))\n",
    "    model.add(Dropout(0.3))\n",
    "    model.add(Dense(256, activation=\"relu\"))\n",
    "    model.add(Dropout(0.3))\n",
    "    model.add(Dense(128, activation=\"relu\"))\n",
    "    model.add(Dropout(0.3))\n",
    "    model.add(Dense(128, activation=\"relu\"))\n",
    "    model.add(Dropout(0.3))\n",
    "    model.add(Dense(64, activation=\"relu\"))\n",
    "    model.add(Dropout(0.3))\n",
    "    model.add(Dense(1, activation=\"sigmoid\"))\n",
    "    model.compile(loss=\"binary_crossentropy\", metrics=[\"accuracy\"], optimizer=\"adam\")\n",
    "    model.summary()\n",
    "    return model"
   ]
  },
  {
   "cell_type": "code",
   "execution_count": 96,
   "metadata": {},
   "outputs": [
    {
     "name": "stdout",
     "output_type": "stream",
     "text": [
      "Model: \"sequential_3\"\n",
      "_________________________________________________________________\n",
      " Layer (type)                Output Shape              Param #   \n",
      "=================================================================\n",
      " dense_18 (Dense)            (None, 256)               33024     \n",
      "                                                                 \n",
      " dropout_15 (Dropout)        (None, 256)               0         \n",
      "                                                                 \n",
      " dense_19 (Dense)            (None, 256)               65792     \n",
      "                                                                 \n",
      " dropout_16 (Dropout)        (None, 256)               0         \n",
      "                                                                 \n",
      " dense_20 (Dense)            (None, 128)               32896     \n",
      "                                                                 \n",
      " dropout_17 (Dropout)        (None, 128)               0         \n",
      "                                                                 \n",
      " dense_21 (Dense)            (None, 128)               16512     \n",
      "                                                                 \n",
      " dropout_18 (Dropout)        (None, 128)               0         \n",
      "                                                                 \n",
      " dense_22 (Dense)            (None, 64)                8256      \n",
      "                                                                 \n",
      " dropout_19 (Dropout)        (None, 64)                0         \n",
      "                                                                 \n",
      " dense_23 (Dense)            (None, 1)                 65        \n",
      "                                                                 \n",
      "=================================================================\n",
      "Total params: 156,545\n",
      "Trainable params: 156,545\n",
      "Non-trainable params: 0\n",
      "_________________________________________________________________\n"
     ]
    }
   ],
   "source": [
    "model = create_model()"
   ]
  },
  {
   "cell_type": "code",
   "execution_count": 97,
   "metadata": {},
   "outputs": [
    {
     "name": "stdout",
     "output_type": "stream",
     "text": [
      "Epoch 1/100\n",
      "848/848 [==============================] - 9s 8ms/step - loss: 0.5586 - accuracy: 0.7668 - val_loss: 0.3845 - val_accuracy: 0.8470\n",
      "Epoch 2/100\n",
      "848/848 [==============================] - 6s 8ms/step - loss: 0.4154 - accuracy: 0.8345 - val_loss: 0.3398 - val_accuracy: 0.8656\n",
      "Epoch 3/100\n",
      "848/848 [==============================] - 7s 8ms/step - loss: 0.3854 - accuracy: 0.8508 - val_loss: 0.3244 - val_accuracy: 0.8714\n",
      "Epoch 4/100\n",
      "848/848 [==============================] - 7s 8ms/step - loss: 0.3609 - accuracy: 0.8598 - val_loss: 0.3011 - val_accuracy: 0.8782\n",
      "Epoch 5/100\n",
      "848/848 [==============================] - 6s 8ms/step - loss: 0.3460 - accuracy: 0.8666 - val_loss: 0.2863 - val_accuracy: 0.8910\n",
      "Epoch 6/100\n",
      "848/848 [==============================] - 6s 8ms/step - loss: 0.3423 - accuracy: 0.8686 - val_loss: 0.2917 - val_accuracy: 0.8860\n",
      "Epoch 7/100\n",
      "848/848 [==============================] - 6s 8ms/step - loss: 0.3281 - accuracy: 0.8748 - val_loss: 0.2810 - val_accuracy: 0.8878\n",
      "Epoch 8/100\n",
      "848/848 [==============================] - 6s 8ms/step - loss: 0.3238 - accuracy: 0.8758 - val_loss: 0.2789 - val_accuracy: 0.8863\n",
      "Epoch 9/100\n",
      "848/848 [==============================] - 7s 8ms/step - loss: 0.3179 - accuracy: 0.8804 - val_loss: 0.2792 - val_accuracy: 0.8908\n",
      "Epoch 10/100\n",
      "848/848 [==============================] - 7s 8ms/step - loss: 0.3135 - accuracy: 0.8813 - val_loss: 0.2723 - val_accuracy: 0.8926\n",
      "Epoch 11/100\n",
      "848/848 [==============================] - 7s 8ms/step - loss: 0.3080 - accuracy: 0.8836 - val_loss: 0.2600 - val_accuracy: 0.9006\n",
      "Epoch 12/100\n",
      "848/848 [==============================] - 6s 8ms/step - loss: 0.3001 - accuracy: 0.8842 - val_loss: 0.2606 - val_accuracy: 0.9011\n",
      "Epoch 13/100\n",
      "848/848 [==============================] - 7s 8ms/step - loss: 0.2971 - accuracy: 0.8878 - val_loss: 0.2609 - val_accuracy: 0.9024\n",
      "Epoch 14/100\n",
      "848/848 [==============================] - 7s 8ms/step - loss: 0.2965 - accuracy: 0.8873 - val_loss: 0.2511 - val_accuracy: 0.9039\n",
      "Epoch 15/100\n",
      "848/848 [==============================] - 7s 8ms/step - loss: 0.2900 - accuracy: 0.8878 - val_loss: 0.2531 - val_accuracy: 0.9057\n",
      "Epoch 16/100\n",
      "848/848 [==============================] - 7s 8ms/step - loss: 0.2883 - accuracy: 0.8914 - val_loss: 0.2485 - val_accuracy: 0.9094\n",
      "Epoch 17/100\n",
      "848/848 [==============================] - 7s 8ms/step - loss: 0.2859 - accuracy: 0.8936 - val_loss: 0.2460 - val_accuracy: 0.9080\n",
      "Epoch 18/100\n",
      "848/848 [==============================] - 6s 8ms/step - loss: 0.2820 - accuracy: 0.8948 - val_loss: 0.2542 - val_accuracy: 0.9014\n",
      "Epoch 19/100\n",
      "848/848 [==============================] - 6s 8ms/step - loss: 0.2839 - accuracy: 0.8927 - val_loss: 0.2463 - val_accuracy: 0.9009\n",
      "Epoch 20/100\n",
      "848/848 [==============================] - 7s 8ms/step - loss: 0.2865 - accuracy: 0.8921 - val_loss: 0.2689 - val_accuracy: 0.8986\n",
      "Epoch 21/100\n",
      "848/848 [==============================] - 6s 8ms/step - loss: 0.2811 - accuracy: 0.8938 - val_loss: 0.2499 - val_accuracy: 0.9024\n",
      "Epoch 22/100\n",
      "848/848 [==============================] - 7s 8ms/step - loss: 0.2755 - accuracy: 0.8967 - val_loss: 0.2365 - val_accuracy: 0.9130\n",
      "Epoch 23/100\n",
      "848/848 [==============================] - 7s 8ms/step - loss: 0.2736 - accuracy: 0.8987 - val_loss: 0.2329 - val_accuracy: 0.9132\n",
      "Epoch 24/100\n",
      "848/848 [==============================] - 7s 8ms/step - loss: 0.2732 - accuracy: 0.8995 - val_loss: 0.2365 - val_accuracy: 0.9142\n",
      "Epoch 25/100\n",
      "848/848 [==============================] - 7s 8ms/step - loss: 0.2707 - accuracy: 0.9000 - val_loss: 0.2403 - val_accuracy: 0.9137\n",
      "Epoch 26/100\n",
      "848/848 [==============================] - 6s 8ms/step - loss: 0.2658 - accuracy: 0.9012 - val_loss: 0.2340 - val_accuracy: 0.9062\n",
      "Epoch 27/100\n",
      "848/848 [==============================] - 7s 8ms/step - loss: 0.2683 - accuracy: 0.8986 - val_loss: 0.2407 - val_accuracy: 0.9104\n",
      "Epoch 28/100\n",
      "848/848 [==============================] - 6s 7ms/step - loss: 0.2687 - accuracy: 0.9013 - val_loss: 0.2305 - val_accuracy: 0.9162\n",
      "Epoch 29/100\n",
      "848/848 [==============================] - 8s 10ms/step - loss: 0.2657 - accuracy: 0.8991 - val_loss: 0.2347 - val_accuracy: 0.9124\n",
      "Epoch 30/100\n",
      "848/848 [==============================] - 9s 11ms/step - loss: 0.2588 - accuracy: 0.9030 - val_loss: 0.2322 - val_accuracy: 0.9157\n",
      "Epoch 31/100\n",
      "848/848 [==============================] - 8s 9ms/step - loss: 0.2655 - accuracy: 0.9020 - val_loss: 0.2322 - val_accuracy: 0.9134\n",
      "Epoch 32/100\n",
      "848/848 [==============================] - 8s 9ms/step - loss: 0.2654 - accuracy: 0.9008 - val_loss: 0.2207 - val_accuracy: 0.9183\n",
      "Epoch 33/100\n",
      "848/848 [==============================] - 8s 9ms/step - loss: 0.2634 - accuracy: 0.9025 - val_loss: 0.2282 - val_accuracy: 0.9137\n",
      "Epoch 34/100\n",
      "848/848 [==============================] - 8s 9ms/step - loss: 0.2595 - accuracy: 0.9030 - val_loss: 0.2254 - val_accuracy: 0.9150\n",
      "Epoch 35/100\n",
      "848/848 [==============================] - 8s 9ms/step - loss: 0.2599 - accuracy: 0.9021 - val_loss: 0.2277 - val_accuracy: 0.9178\n",
      "Epoch 36/100\n",
      "848/848 [==============================] - 8s 9ms/step - loss: 0.2558 - accuracy: 0.9047 - val_loss: 0.2440 - val_accuracy: 0.9119\n",
      "Epoch 37/100\n",
      "848/848 [==============================] - 8s 9ms/step - loss: 0.2567 - accuracy: 0.9045 - val_loss: 0.2464 - val_accuracy: 0.9119\n"
     ]
    }
   ],
   "source": [
    "tensorboard = TensorBoard(log_dir=\"logs\")\n",
    "early_stopping = EarlyStopping(mode=\"min\", patience=5, restore_best_weights=True)\n",
    "batch_size = 64\n",
    "epochs = 100\n",
    "history=model.fit(data[\"X_train\"], data[\"y_train\"], epochs=epochs, batch_size=batch_size, validation_data=(data[\"X_valid\"], data[\"y_valid\"]), callbacks=[tensorboard, early_stopping])"
   ]
  },
  {
   "cell_type": "code",
   "execution_count": 98,
   "metadata": {},
   "outputs": [],
   "source": [
    "model.save(\"results/model.h5\")"
   ]
  },
  {
   "cell_type": "code",
   "execution_count": 99,
   "metadata": {},
   "outputs": [
    {
     "name": "stdout",
     "output_type": "stream",
     "text": [
      "210/210 [==============================] - 1s 4ms/step - loss: 0.2284 - accuracy: 0.9181\n"
     ]
    },
    {
     "data": {
      "text/plain": [
       "[0.2283858209848404, 0.9181356430053711]"
      ]
     },
     "execution_count": 99,
     "metadata": {},
     "output_type": "execute_result"
    }
   ],
   "source": [
    "model.evaluate(data[\"X_test\"],Y_test_2)"
   ]
  },
  {
   "cell_type": "code",
   "execution_count": 100,
   "metadata": {},
   "outputs": [
    {
     "name": "stdout",
     "output_type": "stream",
     "text": [
      "210/210 [==============================] - 1s 3ms/step\n"
     ]
    }
   ],
   "source": [
    "pred=model.predict(data[\"X_test\"])"
   ]
  },
  {
   "cell_type": "code",
   "execution_count": 101,
   "metadata": {},
   "outputs": [
    {
     "data": {
      "text/plain": [
       "array([0.9578192], dtype=float32)"
      ]
     },
     "execution_count": 101,
     "metadata": {},
     "output_type": "execute_result"
    }
   ],
   "source": [
    "pred[1]"
   ]
  },
  {
   "cell_type": "code",
   "execution_count": 102,
   "metadata": {},
   "outputs": [
    {
     "data": {
      "image/png": "[encoded data removed]",
      "text/plain": [
       "<Figure size 640x480 with 1 Axes>"
      ]
     },
     "metadata": {},
     "output_type": "display_data"
    }
   ],
   "source": [
    "plt.plot(history.history['loss'])\n",
    "plt.plot(history.history['val_loss'])\n",
    "plt.title('Model Loss')\n",
    "plt.xlabel=('Epoch')\n",
    "plt.ylabel=('Loss')\n",
    "plt.legend(['Train', 'Validation'], loc='upper left')\n",
    "plt.subplots_adjust(top=1.0,bottom=0.0,right=0.95,left=0,hspace=0.25,wspace=0.35)"
   ]
  },
  {
   "cell_type": "code",
   "execution_count": 103,
   "metadata": {},
   "outputs": [
    {
     "data": {
      "image/png": "[encoded data removed]",
      "text/plain": [
       "<Figure size 640x480 with 1 Axes>"
      ]
     },
     "metadata": {},
     "output_type": "display_data"
    }
   ],
   "source": [
    "plt.plot(history.history['accuracy'])\n",
    "plt.plot(history.history['val_accuracy'])\n",
    "plt.title('Model Accuracy')\n",
    "plt.xlabel=(\"Epoch\")\n",
    "plt.ylabel=('Accuracy')\n",
    "plt.legend(['Train', 'Validation'], loc='upper left')\n",
    "plt.subplots_adjust(top=1.0,bottom=0.0,right=0.95,left=0,hspace=0.25,wspace=0.35)"
   ]
  },
  {
   "cell_type": "code",
   "execution_count": 104,
   "metadata": {},
   "outputs": [
    {
     "name": "stdout",
     "output_type": "stream",
     "text": [
      "Evaluating the model using 6694 samples...\n",
      "Loss: 0.2284\n",
      "Accuracy: 91.81%\n"
     ]
    }
   ],
   "source": [
    "print(f\"Evaluating the model using {len(data['X_test'])} samples...\")\n",
    "loss, accuracy = model.evaluate(data[\"X_test\"], data[\"y_test\"], verbose=0)\n",
    "print(f\"Loss: {loss:.4f}\")\n",
    "print(f\"Accuracy: {accuracy*100:.2f}%\")"
   ]
  }
 ],
 "metadata": {
  "kernelspec": {
   "display_name": "Python 3",
   "language": "python",
   "name": "python3"
  },
  "language_info": {
   "codemirror_mode": {
    "name": "ipython",
    "version": 3
   },
   "file_extension": ".py",
   "mimetype": "text/x-python",
   "name": "python",
   "nbconvert_exporter": "python",
   "pygments_lexer": "ipython3",
   "version": "3.7.9"
  }
 },
 "nbformat": 4,
 "nbformat_minor": 2
}
